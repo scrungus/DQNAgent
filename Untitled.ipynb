{
 "cells": [
  {
   "cell_type": "code",
   "execution_count": 1,
   "id": "novel-residence",
   "metadata": {},
   "outputs": [],
   "source": [
    "from __future__ import absolute_import, division, print_function\n",
    "\n",
    "import base64\n",
    "import imageio\n",
    "import IPython\n",
    "import matplotlib\n",
    "import matplotlib.pyplot as plt\n",
    "import numpy as np\n",
    "import PIL.Image\n",
    "import pyvirtualdisplay\n",
    "import reverb\n",
    "\n",
    "import tensorflow as tf\n",
    "\n",
    "from tf_agents.agents.dqn import dqn_agent\n",
    "from tf_agents.drivers import py_driver\n",
    "from tf_agents.environments import suite_gym\n",
    "from tf_agents.environments import tf_py_environment\n",
    "from tf_agents.eval import metric_utils\n",
    "from tf_agents.metrics import tf_metrics\n",
    "from tf_agents.networks import sequential\n",
    "from tf_agents.policies import py_tf_eager_policy\n",
    "from tf_agents.policies import random_tf_policy\n",
    "from tf_agents.replay_buffers import reverb_replay_buffer\n",
    "from tf_agents.replay_buffers import reverb_utils\n",
    "from tf_agents.trajectories import trajectory\n",
    "from tf_agents.specs import tensor_spec\n",
    "from tf_agents.utils import common\n",
    "from tf_agents.policies import random_py_policy\n",
    "import argparse\n",
    "\n",
    "import gym\n",
    "\n",
    "num_iterations = 10000 # @param {type:\"integer\"}\n",
    "\n",
    "initial_collect_steps = 50  # @param {type:\"integer\"}\n",
    "collect_steps_per_iteration =   1# @param {type:\"integer\"}\n",
    "replay_buffer_max_length = 1000  # @param {type:\"integer\"}\n",
    "\n",
    "batch_size = 32  # @param {type:\"integer\"}\n",
    "learning_rate = 1e-3  # @param {type:\"number\"}\n",
    "log_interval = 200  # @param {type:\"integer\"}\n",
    "\n",
    "num_eval_episodes = 10  # @param {type:\"integer\"}\n",
    "eval_interval = 100  # @param {type:\"integer\"}"
   ]
  },
  {
   "cell_type": "code",
   "execution_count": 26,
   "id": "peripheral-hepatitis",
   "metadata": {},
   "outputs": [],
   "source": [
    "t_env = tf_py_environment.TFPyEnvironment(suite_gym.load('gym_go:go-v1', gym_kwargs={'size':3,'komi':0}))\n",
    "e_env = tf_py_environment.TFPyEnvironment(suite_gym.load('gym_go:go-v1', gym_kwargs={'size':3,'komi':0}))"
   ]
  },
  {
   "cell_type": "code",
   "execution_count": 28,
   "id": "certain-albania",
   "metadata": {},
   "outputs": [],
   "source": [
    "tp_env = suite_gym.load('gym_go:go-v1', gym_kwargs={'size':3,'komi':0})\n",
    "ep_env = suite_gym.load('gym_go:go-v1', gym_kwargs={'size':3,'komi':0})"
   ]
  },
  {
   "cell_type": "code",
   "execution_count": 29,
   "id": "prospective-reply",
   "metadata": {},
   "outputs": [
    {
     "name": "stdout",
     "output_type": "stream",
     "text": [
      "{'my_table': TableInfo(name='my_table', sampler_options=uniform: true\n",
      ", remover_options=fifo: true\n",
      "is_deterministic: true\n",
      ", max_size=100, max_times_sampled=0, rate_limiter_info=samples_per_insert: 1.0\n",
      "min_diff: -1.7976931348623157e+308\n",
      "max_diff: 1.7976931348623157e+308\n",
      "min_size_to_sample: 1\n",
      "insert_stats {\n",
      "}\n",
      "sample_stats {\n",
      "}\n",
      ", signature=None, current_size=0, num_episodes=0, num_deleted_episodes=0, num_unique_samples=0, table_worker_time=sleeping_ms: 31\n",
      ")}\n"
     ]
    }
   ],
   "source": [
    "#Replay Buffer\n",
    "import reverb\n",
    "\n",
    "server = reverb.Server(tables=[\n",
    "    reverb.Table(\n",
    "        name='my_table',\n",
    "        sampler=reverb.selectors.Uniform(),\n",
    "        remover=reverb.selectors.Fifo(),\n",
    "        max_size=100,\n",
    "        rate_limiter=reverb.rate_limiters.MinSize(1)),\n",
    "    ],\n",
    ")\n",
    "\n",
    "client = reverb.Client(f'localhost:{server.port}')\n",
    "print(client.server_info())"
   ]
  },
  {
   "cell_type": "code",
   "execution_count": 31,
   "id": "medium-nigeria",
   "metadata": {},
   "outputs": [],
   "source": [
    "#Q Network\n",
    "fc_layer_params = (100, 50)\n",
    "action_tensor_spec = tensor_spec.from_spec(env.action_spec())\n",
    "num_actions = action_tensor_spec.maximum - action_tensor_spec.minimum + 1\n",
    "\n",
    "# Define a helper function to create Dense layers configured with the right\n",
    "# activation and kernel initializer.\n",
    "def dense_layer(num_units):\n",
    "  return tf.keras.layers.Dense(\n",
    "      num_units,\n",
    "      activation=tf.keras.activations.relu,\n",
    "      kernel_initializer=tf.keras.initializers.VarianceScaling(\n",
    "          scale=2.0, mode='fan_in', distribution='truncated_normal'))\n",
    "\n",
    "# QNetwork consists of a sequence of Dense layers followed by a dense layer\n",
    "# with `num_actions` units to generate one q_value per available action as\n",
    "# its output.\n",
    "dense_layers = [dense_layer(num_units) for num_units in fc_layer_params]\n",
    "q_values_layer = tf.keras.layers.Dense(\n",
    "    num_actions,\n",
    "    activation=None,\n",
    "    kernel_initializer=tf.keras.initializers.RandomUniform(\n",
    "        minval=-0.03, maxval=0.03),\n",
    "    bias_initializer=tf.keras.initializers.Constant(-0.2))\n",
    "q_net = sequential.Sequential(dense_layers + [q_values_layer])\n"
   ]
  },
  {
   "cell_type": "code",
   "execution_count": null,
   "id": "union-interpretation",
   "metadata": {},
   "outputs": [],
   "source": [
    "class DQNAgent:\n",
    "    \n",
    "    def __init__(self,qnet):\n",
    "        self.qnet = qnet\n",
    "        self.EPS_START = 0.9\n",
    "        self.EPS_END = 0.05\n",
    "        self.EPS_DECAY = 0.0001\n",
    "        \n",
    "    def action():\n",
    "        \n",
    "        "
   ]
  }
 ],
 "metadata": {
  "kernelspec": {
   "display_name": "Python 3",
   "language": "python",
   "name": "python3"
  },
  "language_info": {
   "codemirror_mode": {
    "name": "ipython",
    "version": 3
   },
   "file_extension": ".py",
   "mimetype": "text/x-python",
   "name": "python",
   "nbconvert_exporter": "python",
   "pygments_lexer": "ipython3",
   "version": "3.9.5"
  }
 },
 "nbformat": 4,
 "nbformat_minor": 5
}
